{
  "nbformat": 4,
  "nbformat_minor": 0,
  "metadata": {
    "colab": {
      "provenance": [],
      "authorship_tag": "ABX9TyN2KJz6q681XKmcqHyEmEtq",
      "include_colab_link": true
    },
    "kernelspec": {
      "name": "python3",
      "display_name": "Python 3"
    },
    "language_info": {
      "name": "python"
    }
  },
  "cells": [
    {
      "cell_type": "markdown",
      "metadata": {
        "id": "view-in-github",
        "colab_type": "text"
      },
      "source": [
        "<a href=\"https://colab.research.google.com/github/NamanGoyal255/ChallengeQuestion_SortListOfHetrogenousData/blob/main/ChallengeQuestion_SortListOfHetrogenousData.ipynb\" target=\"_parent\"><img src=\"https://colab.research.google.com/assets/colab-badge.svg\" alt=\"Open In Colab\"/></a>"
      ]
    },
    {
      "cell_type": "code",
      "execution_count": 1,
      "metadata": {
        "colab": {
          "base_uri": "https://localhost:8080/"
        },
        "id": "khT2RG9zkMFG",
        "outputId": "e1f4b3d6-e348-48fb-b542-70ed9c2190ff"
      },
      "outputs": [
        {
          "output_type": "stream",
          "name": "stdout",
          "text": [
            "The original list : ['4', 'Ram', '2', 'best', 'is', '3', 'Sham', 'madan']\n",
            "List after mixed sorting : ['2', '3', '4', 'Ram', 'Sham', 'best', 'is', 'madan']\n"
          ]
        }
      ],
      "source": [
        "test_list = ['4', 'Ram', '2', 'best', 'is', '3','Sham','madan']\n",
        " \n",
        "\n",
        "print(\"The original list : \" + str(test_list))\n",
        " \n",
        "\n",
        "res = sorted(test_list, key = lambda ele: (0, int(ele))\n",
        "                        if ele.isdigit() else (1, ele))\n",
        " \n",
        "\n",
        "print(\"List after mixed sorting : \" + str(res))"
      ]
    }
  ]
}